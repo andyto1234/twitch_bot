{
 "cells": [
  {
   "cell_type": "code",
   "execution_count": 1,
   "id": "7e778e7c-7c8b-44a4-8e02-25ec15191ee4",
   "metadata": {},
   "outputs": [],
   "source": [
    "from selenium import webdriver\n",
    "from selenium.webdriver.common.keys import Keys"
   ]
  },
  {
   "cell_type": "code",
   "execution_count": 2,
   "id": "db34620f-958e-4331-aa64-7404f4b756c9",
   "metadata": {},
   "outputs": [],
   "source": [
    "driver = webdriver.Chrome('./chromedriver')"
   ]
  },
  {
   "cell_type": "code",
   "execution_count": 3,
   "id": "faa6eb18-ba37-4eb2-bca9-23d4d5a22bf3",
   "metadata": {},
   "outputs": [],
   "source": [
    "driver.get('https://www.twitch.tv/gooberarcade')"
   ]
  },
  {
   "cell_type": "code",
   "execution_count": 39,
   "id": "59922485-3247-460a-a798-7a96903b511c",
   "metadata": {},
   "outputs": [],
   "source": [
    "text_bar = driver.find_element_by_class_name('chat-wysiwyg-input__editor')"
   ]
  },
  {
   "cell_type": "code",
   "execution_count": 31,
   "id": "103c9863-166b-4ff0-9170-5dc864efa073",
   "metadata": {},
   "outputs": [],
   "source": [
    "text_bar = driver.find_element_by_xpath('/html/body/div[1]/div/div[2]/div[2]/div[2]/div/div[1]/div/div/div/div/div/section/div/div[5]/div[2]/div[1]/div[2]/div/div/div[1]/div/div/div/div/div[2]/div/span')"
   ]
  },
  {
   "cell_type": "code",
   "execution_count": 32,
   "id": "1442097d-3863-4a70-8c4c-8f25162e0064",
   "metadata": {},
   "outputs": [
    {
     "data": {
      "text/plain": [
       "<selenium.webdriver.remote.webelement.WebElement (session=\"173e75ff95203c770d2e6f9cf40714f3\", element=\"aeac9afc-9269-4d41-80a4-cf94199e7e49\")>"
      ]
     },
     "execution_count": 32,
     "metadata": {},
     "output_type": "execute_result"
    }
   ],
   "source": [
    "text_bar"
   ]
  },
  {
   "cell_type": "code",
   "execution_count": 41,
   "id": "a79d7ab1-e20e-4331-ab5f-7e282ae6f495",
   "metadata": {},
   "outputs": [],
   "source": [
    "# text_bar.clear()\n",
    "text_bar.send_keys(Keys.RETURN)\n",
    "\n",
    "text_bar.send_keys(\"!insertall\")\n",
    "text_bar.send_keys(Keys.RETURN)\n"
   ]
  },
  {
   "cell_type": "code",
   "execution_count": null,
   "id": "07986144-c490-4049-a0e5-0e9f10f6e5ef",
   "metadata": {},
   "outputs": [],
   "source": []
  },
  {
   "cell_type": "code",
   "execution_count": 19,
   "id": "8d5f336e-f3b9-4906-96fb-ec24be9fb33f",
   "metadata": {},
   "outputs": [],
   "source": [
    "text_bar.send_keys(\"!insertall\")\n"
   ]
  },
  {
   "cell_type": "code",
   "execution_count": null,
   "id": "d839d062-e842-4a43-bfd3-d0ebb192095b",
   "metadata": {},
   "outputs": [],
   "source": [
    "queue = driver.find_element_by_class_name('Layout-sc-nxg1ff-0')\n",
    "queue.text"
   ]
  },
  {
   "cell_type": "code",
   "execution_count": null,
   "id": "00bff62e-f216-4fb9-9ff2-6f6fdafbcc1c",
   "metadata": {},
   "outputs": [],
   "source": [
    "help(continue_link.text)"
   ]
  },
  {
   "cell_type": "code",
   "execution_count": null,
   "id": "6b9bec6d-c52e-4182-8bb1-11a0338b9a1b",
   "metadata": {
    "tags": []
   },
   "outputs": [],
   "source": [
    "import re\n",
    "new_val= re.findall(r\"you have successfully queued. You are (\\d{1,3})\", queue.text)[-1]\n",
    "print(int(new_val))"
   ]
  },
  {
   "cell_type": "code",
   "execution_count": null,
   "id": "04e6e2f0-ba65-4588-a0bf-61bc41a54714",
   "metadata": {},
   "outputs": [
    {
     "name": "stdout",
     "output_type": "stream",
     "text": [
      " 950"
     ]
    }
   ],
   "source": [
    "import time\n",
    "import random\n",
    "import re\n",
    "\n",
    "while True:\n",
    "    # /html/body/div[1]/div/div[2]/div[1]/div[2]/div/div[1]/div/div/div/div/div/section/div/div[5]/div[2]/div[1]/div[2]/div/div/div[1]/div/textarea\n",
    "    text_bar = driver.find_element_by_class_name('chat-wysiwyg-input__editor')\n",
    "    # text_bar.clear()\n",
    "    text_bar.send_keys(Keys.RETURN)\n",
    "    text_bar.send_keys(\"!insertall\")\n",
    "    text_bar.send_keys(Keys.RETURN)\n",
    "    queue = driver.find_element_by_class_name('Layout-sc-nxg1ff-0').text\n",
    "    new_val= re.findall(r\"you have successfully queued. You are (\\d{1,3})\", queue)[-1]\n",
    "    wait_time = int(new_val)*14\n",
    "    # wait_time = 1200+random.randrange(1,1200)\n",
    "    if wait_time % 4 == 0:\n",
    "        time.sleep(random.randrange(6,12))\n",
    "        # text_bar.clear()\n",
    "        text_bar.send_keys(Keys.RETURN)\n",
    "        text_bar.send_keys(\"!lastdrop\")\n",
    "        text_bar.send_keys(Keys.RETURN)\n",
    "    for i in range(wait_time,0,-1):\n",
    "        print(\"\\r\", f\"{i}\", end=\"\", flush=True)\n",
    "        time.sleep(1)\n"
   ]
  },
  {
   "cell_type": "code",
   "execution_count": null,
   "id": "709d59c9-35ee-4607-9373-62ed348c9c12",
   "metadata": {},
   "outputs": [],
   "source": []
  }
 ],
 "metadata": {
  "kernelspec": {
   "display_name": "Python 3 (ipykernel)",
   "language": "python",
   "name": "python3"
  },
  "language_info": {
   "codemirror_mode": {
    "name": "ipython",
    "version": 3
   },
   "file_extension": ".py",
   "mimetype": "text/x-python",
   "name": "python",
   "nbconvert_exporter": "python",
   "pygments_lexer": "ipython3",
   "version": "3.7.12"
  }
 },
 "nbformat": 4,
 "nbformat_minor": 5
}
